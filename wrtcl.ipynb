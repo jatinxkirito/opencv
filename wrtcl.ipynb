{
 "cells": [
  {
   "cell_type": "code",
   "execution_count": 1,
   "metadata": {},
   "outputs": [],
   "source": [
    "import cv2\n",
    "import numpy as np"
   ]
  },
  {
   "cell_type": "code",
   "execution_count": 3,
   "metadata": {},
   "outputs": [],
   "source": [
    "vid=cv2.VideoCapture(0)\n",
    "vid.set(3,240)\n",
    "vid.set(4,240)\n",
    "pts_o=[]\n",
    "pts_g=[]\n",
    "while vid.isOpened():\n",
    "    bl,img=vid.read()\n",
    "    img=cv2.flip(img,1)\n",
    "    o_min=np.array([0,83,86])\n",
    "    o_max=np.array([22,250,255])\n",
    "    g_min=np.array([44,104,43])\n",
    "    g_max=np.array([75,177,255])\n",
    "    im1=cv2.cvtColor(img,cv2.COLOR_BGR2HSV)\n",
    "    im2=im1.copy()\n",
    "    m_o=cv2.inRange(im1,o_min,o_max)\n",
    "    m_g=cv2.inRange(im2,g_min,g_max)\n",
    "    m_o=cv2.Canny(m_o,50,50,1)\n",
    "    m_g=cv2.Canny(m_g,50,50,1)\n",
    "    cnto,y1=cv2.findContours(m_o ,cv2.RETR_EXTERNAL,cv2.CHAIN_APPROX_NONE)\n",
    "    cnt1,y2=cv2.findContours(m_g,cv2.RETR_EXTERNAL,cv2.CHAIN_APPROX_NONE)\n",
    "    \n",
    "    for imk in cnto:\n",
    "        peri=cv2.arcLength(imk,True)\n",
    "        approx=cv2.approxPolyDP(imk,0.01*peri,True)\n",
    "        x,y,w,h=cv2.boundingRect(approx)\n",
    "        pts_o.append([x+w/2,(y)])\n",
    "        # cv2.rectangle(img,(x,y),(x+w,y+h),(0,255,0),2)\n",
    "    for imk in cnt1:\n",
    "        peri=cv2.arcLength(imk,True)\n",
    "        approx=cv2.approxPolyDP(imk,0.01*peri,True)\n",
    "        x,y,w,h=cv2.boundingRect(approx)\n",
    "        pts_g.append([x+w/2,y])\n",
    "    # for pt in pts_o:\n",
    "    #     cv2.circle(img,(int(pt[0]),int(pt[1])),2,(0,165,255),cv2.FILLED)\n",
    "    #     print(type(pt[0]))\n",
    "    for pt in pts_g:\n",
    "        cv2.circle(img,(int(pt[0]),int(pt[1])),2,(0,255,0),cv2.FILLED)\n",
    "    cv2.imshow('a',img)\n",
    "    cv2.imshow('b',m_g)\n",
    "    if cv2.waitKey(1)&0XFF==ord('a'):\n",
    "        cv2.destroyAllWindows()\n",
    "        break\n",
    "    cv2.imshow('a',img)\n"
   ]
  },
  {
   "cell_type": "code",
   "execution_count": null,
   "metadata": {},
   "outputs": [],
   "source": []
  }
 ],
 "metadata": {
  "kernelspec": {
   "display_name": "Python 3",
   "language": "python",
   "name": "python3"
  },
  "language_info": {
   "codemirror_mode": {
    "name": "ipython",
    "version": 3
   },
   "file_extension": ".py",
   "mimetype": "text/x-python",
   "name": "python",
   "nbconvert_exporter": "python",
   "pygments_lexer": "ipython3",
   "version": "3.10.0 (tags/v3.10.0:b494f59, Oct  4 2021, 19:00:18) [MSC v.1929 64 bit (AMD64)]"
  },
  "orig_nbformat": 4,
  "vscode": {
   "interpreter": {
    "hash": "0bf9bcd7f4ad855f5ce02d8afdf24e010240801b7cfc5e7745f958ad60512476"
   }
  }
 },
 "nbformat": 4,
 "nbformat_minor": 2
}
